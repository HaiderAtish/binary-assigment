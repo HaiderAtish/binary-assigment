{
  "nbformat": 4,
  "nbformat_minor": 0,
  "metadata": {
    "colab": {
      "provenance": []
    },
    "kernelspec": {
      "name": "python3",
      "display_name": "Python 3"
    },
    "language_info": {
      "name": "python"
    }
  },
  "cells": [
    {
      "cell_type": "code",
      "execution_count": 1,
      "metadata": {
        "colab": {
          "base_uri": "https://localhost:8080/"
        },
        "id": "TlyzMNwPbe7V",
        "outputId": "2a787db3-e750-4c31-be80-ec262f8f32df"
      },
      "outputs": [
        {
          "output_type": "stream",
          "name": "stderr",
          "text": [
            "[nltk_data] Downloading package punkt to /root/nltk_data...\n",
            "[nltk_data]   Unzipping tokenizers/punkt.zip.\n",
            "[nltk_data] Downloading package gutenberg to /root/nltk_data...\n",
            "[nltk_data]   Unzipping corpora/gutenberg.zip.\n"
          ]
        },
        {
          "output_type": "stream",
          "name": "stdout",
          "text": [
            "                Sequence Trigram Prediction\n",
            "0             she was so             little\n",
            "1             he had not               gone\n",
            "2        they were about                the\n",
            "3                it is a               very\n",
            "4              i think i              ought\n",
            "5        you should have           realised\n",
            "6           we are going               want\n",
            "7  this was tremendously                yet\n",
            "8            do you love        considering\n",
            "9          how can model               same\n",
            "figure pieces in her silence but beginning to apprehend the bewitching flattery of that before\n"
          ]
        }
      ],
      "source": [
        "import nltk\n",
        "import random\n",
        "from nltk import trigrams\n",
        "from collections import Counter, defaultdict\n",
        "import pandas as pd\n",
        "\n",
        "nltk.download(\"punkt\")\n",
        "nltk.download('gutenberg')\n",
        "\n",
        "from nltk.corpus import gutenberg\n",
        "corpus = gutenberg.sents(\"austen-emma.txt\")[:1000]  # Limit to 1,000 sentences\n",
        "\n",
        "flat_corpus = [word.lower() for sentence in corpus for word in sentence if word.isalpha()]\n",
        "\n",
        "# Trigram Model\n",
        "trigram_counts = Counter(trigrams(flat_corpus))\n",
        "total_trigrams = sum(trigram_counts.values())\n",
        "\n",
        "# Create trigram dictionary\n",
        "n_gram = defaultdict(list)\n",
        "for sentence in corpus:\n",
        "    words = [word.lower() for word in sentence if word.isalpha()]\n",
        "    for i in range(len(words) - 2):\n",
        "        n_gram[(words[i], words[i + 1])].append(words[i + 2])\n",
        "\n",
        "# Predict next word based on trigram probabilities\n",
        "def predict_trigram(sequence):\n",
        "    if len(sequence) < 2:\n",
        "        return random.choice(flat_corpus)\n",
        "\n",
        "    last_bigram = tuple(sequence[-2:])\n",
        "    if last_bigram in n_gram:\n",
        "        return random.choice(n_gram[last_bigram])\n",
        "    else:\n",
        "        return random.choice(flat_corpus)  # fallback to unigram if no trigram available\n",
        "\n",
        "# Generate sentence from trigrams\n",
        "def generate_sentence(num_words=15):\n",
        "    words = []\n",
        "    first_words = random.choice(list(n_gram.keys()))\n",
        "    words.extend(first_words)\n",
        "    while len(words) < num_words:\n",
        "        next_word = predict_trigram(words)\n",
        "        words.append(next_word)\n",
        "    return \" \".join(words)\n",
        "\n",
        "# Sample sequences\n",
        "sample_sequences = [\n",
        "    [\"she\", \"was\", \"so\"],\n",
        "    [\"he\", \"had\", \"not\"],\n",
        "    [\"they\", \"were\", \"about\"],\n",
        "    [\"it\", \"is\", \"a\"],\n",
        "    [\"i\", \"think\", \"i\"],\n",
        "    [\"you\", \"should\", \"have\"],\n",
        "    [\"we\", \"are\", \"going\"],\n",
        "    [\"this\", \"was\", \"tremendously\"],\n",
        "    [\"do\", \"you\", \"love\"],\n",
        "    [\"how\", \"can\", \"model\"]\n",
        "]\n",
        "\n",
        "results = []\n",
        "\n",
        "for sequence in sample_sequences:\n",
        "    trigram_prediction = predict_trigram(sequence)\n",
        "    results.append({\n",
        "        \"Sequence\": \" \".join(sequence),\n",
        "        \"Trigram Prediction\": trigram_prediction\n",
        "    })\n",
        "\n",
        "results_df = pd.DataFrame(results)\n",
        "print(results_df)\n",
        "\n",
        "# Generate a random sentence\n",
        "print(generate_sentence())"
      ]
    }
  ]
}